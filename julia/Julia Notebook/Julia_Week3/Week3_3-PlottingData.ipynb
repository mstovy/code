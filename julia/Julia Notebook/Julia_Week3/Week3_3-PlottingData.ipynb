{
 "cells": [
  {
   "cell_type": "code",
   "execution_count": 1,
   "metadata": {},
   "outputs": [
    {
     "data": {
      "text/html": [
       "<link href='http://fonts.googleapis.com/css?family=Alegreya+Sans:100,300,400,500,700,800,900,100italic,300italic,400italic,500italic,700italic,800italic,900italic' rel='stylesheet' type='text/css'>\r\n",
       "<link href='http://fonts.googleapis.com/css?family=Arvo:400,700,400italic' rel='stylesheet' type='text/css'>\r\n",
       "<link href='http://fonts.googleapis.com/css?family=PT+Mono' rel='stylesheet' type='text/css'>\r\n",
       "<link href='http://fonts.googleapis.com/css?family=Shadows+Into+Light' rel='stylesheet' type='text/css'>\r\n",
       "<link href='http://fonts.googleapis.com/css?family=Philosopher:400,700,400italic,700italic' rel='stylesheet' type='text/css'>\r\n",
       "\r\n",
       "<style>\r\n",
       "\r\n",
       "@font-face {\r\n",
       "    font-family: \"Computer Modern\";\r\n",
       "    src: url('http://mirrors.ctan.org/fonts/cm-unicode/fonts/otf/cmunss.otf');\r\n",
       "}\r\n",
       "\r\n",
       "\r\n",
       "\r\n",
       "/* Formatting for header cells */\r\n",
       ".text_cell_render h1 {\r\n",
       "    font-family: 'Philosopher', sans-serif;\r\n",
       "    font-weight: 400;\r\n",
       "    font-size: 2.2em;\r\n",
       "    line-height: 100%;\r\n",
       "    color: rgb(0, 80, 120);\r\n",
       "    margin-bottom: 0.1em;\r\n",
       "    margin-top: 0.1em;\r\n",
       "    display: block;\r\n",
       "}\t\r\n",
       ".text_cell_render h2 {\r\n",
       "    font-family: 'Philosopher', serif;\r\n",
       "    font-weight: 400;\r\n",
       "    font-size: 1.9em;\r\n",
       "    line-height: 100%;\r\n",
       "    color: rgb(200,100,0);\r\n",
       "    margin-bottom: 0.1em;\r\n",
       "    margin-top: 0.1em;\r\n",
       "    display: block;\r\n",
       "}\t\r\n",
       "\r\n",
       ".text_cell_render h3 {\r\n",
       "    font-family: 'Philosopher', serif;\r\n",
       "    margin-top:12px;\r\n",
       "    margin-bottom: 3px;\r\n",
       "    font-style: italic;\r\n",
       "    color: rgb(94,127,192);\r\n",
       "}\r\n",
       "\r\n",
       ".text_cell_render h4 {\r\n",
       "    font-family: 'Philosopher', serif;\r\n",
       "}\r\n",
       "\r\n",
       ".text_cell_render h5 {\r\n",
       "    font-family: 'Alegreya Sans', sans-serif;\r\n",
       "    font-weight: 300;\r\n",
       "    font-size: 16pt;\r\n",
       "    color: grey;\r\n",
       "    font-style: italic;\r\n",
       "    margin-bottom: .1em;\r\n",
       "    margin-top: 0.1em;\r\n",
       "    display: block;\r\n",
       "}\r\n",
       "\r\n",
       ".text_cell_render h6 {\r\n",
       "    font-family: 'PT Mono', sans-serif;\r\n",
       "    font-weight: 300;\r\n",
       "    font-size: 10pt;\r\n",
       "    color: grey;\r\n",
       "    margin-bottom: 1px;\r\n",
       "    margin-top: 1px;\r\n",
       "}\r\n",
       "\r\n",
       ".CodeMirror{\r\n",
       "        font-family: \"PT Mono\";\r\n",
       "        font-size: 100%;\r\n",
       "}\r\n",
       "\r\n",
       "</style>\r\n",
       "\r\n"
      ],
      "text/plain": [
       "HTML{String}(\"<link href='http://fonts.googleapis.com/css?family=Alegreya+Sans:100,300,400,500,700,800,900,100italic,300italic,400italic,500italic,700italic,800italic,900italic' rel='stylesheet' type='text/css'>\\r\\n<link href='http://fonts.googleapis.com/css?family=Arvo:400,700,400italic' rel='stylesheet' type='text/css'>\\r\\n<link href='http://fonts.googleapis.com/css?family=PT+Mono' rel='stylesheet' type='text/css'>\\r\\n<link href='http://fonts.googleapis.com/css?family=Shadows+Into+Light' rel='stylesheet' type='text/css'>\\r\\n<link href='http://fonts.googleapis.com/css?family=Philosopher:400,700,400italic,700italic' rel='stylesheet' type='text/css'>\\r\\n\\r\\n<style>\\r\\n\\r\\n@font-face {\\r\\n    font-family: \\\"Computer Modern\\\";\\r\\n    src: url('http://mirrors.ctan.org/fonts/cm-unicode/fonts/otf/cmunss.otf');\\r\\n}\\r\\n\\r\\n\\r\\n\\r\\n/* Formatting for header cells */\\r\\n.text_cell_render h1 {\\r\\n    font-family: 'Philosopher', sans-serif;\\r\\n    font-weight: 400;\\r\\n    font-size: 2.2em;\\r\\n    line-height: 100%;\\r\\n    color: rgb(0, 80, 120);\\r\\n    margin-bottom: 0.1em;\\r\\n    margin-top: 0.1em;\\r\\n    display: block;\\r\\n}\\t\\r\\n.text_cell_render h2 {\\r\\n    font-family: 'Philosopher', serif;\\r\\n    font-weight: 400;\\r\\n    font-size: 1.9em;\\r\\n    line-height: 100%;\\r\\n    color: rgb(200,100,0);\\r\\n    margin-bottom: 0.1em;\\r\\n    margin-top: 0.1em;\\r\\n    display: block;\\r\\n}\\t\\r\\n\\r\\n.text_cell_render h3 {\\r\\n    font-family: 'Philosopher', serif;\\r\\n    margin-top:12px;\\r\\n    margin-bottom: 3px;\\r\\n    font-style: italic;\\r\\n    color: rgb(94,127,192);\\r\\n}\\r\\n\\r\\n.text_cell_render h4 {\\r\\n    font-family: 'Philosopher', serif;\\r\\n}\\r\\n\\r\\n.text_cell_render h5 {\\r\\n    font-family: 'Alegreya Sans', sans-serif;\\r\\n    font-weight: 300;\\r\\n    font-size: 16pt;\\r\\n    color: grey;\\r\\n    font-style: italic;\\r\\n    margin-bottom: .1em;\\r\\n    margin-top: 0.1em;\\r\\n    display: block;\\r\\n}\\r\\n\\r\\n.text_cell_render h6 {\\r\\n    font-family: 'PT Mono', sans-serif;\\r\\n    font-weight: 300;\\r\\n    font-size: 10pt;\\r\\n    color: grey;\\r\\n    margin-bottom: 1px;\\r\\n    margin-top: 1px;\\r\\n}\\r\\n\\r\\n.CodeMirror{\\r\\n        font-family: \\\"PT Mono\\\";\\r\\n        font-size: 100%;\\r\\n}\\r\\n\\r\\n</style>\\r\\n\\r\\n\")"
      ]
     },
     "execution_count": 1,
     "metadata": {},
     "output_type": "execute_result"
    }
   ],
   "source": [
    "# Setting up a custom stylesheet in IJulia\n",
    "file = open(\"style.css\") # A .css file in the same folder as this notebook file\n",
    "styl = read(file, String) # Read the file\n",
    "HTML(\"$styl\") # Output as HTML"
   ]
  },
  {
   "cell_type": "markdown",
   "metadata": {},
   "source": [
    "<h1> Plotting data and an approximately fitted line simultaneously </h1>"
   ]
  },
  {
   "cell_type": "markdown",
   "metadata": {},
   "source": [
    "<h2>In this lecture</h2>\n",
    "\n",
    "- [Outcome](#Outcome)\n",
    "- [Julia's modify-the-argument functions](#Julia's-modify-the-argument-functions)\n",
    "- [The difference between plot() and plot!()](#The-difference-between-\"plot\"-and-\"plot!\")\n",
    "- [An example: approximating the cosine function](#An-example:-approximating-the-cosine-function)"
   ]
  },
  {
   "cell_type": "markdown",
   "metadata": {},
   "source": [
    "[Back to the top](#In-this-lecture)"
   ]
  },
  {
   "cell_type": "markdown",
   "metadata": {},
   "source": [
    "<h2>Outcome</h2>\n",
    "\n",
    "After this lecture, you will be able to\n",
    "- Explain how, in Julia's Plots package, the ``plot!()`` function differs from ``plot()``\n",
    "- Use ``plot!()`` to overlay a fitted curve to a scatter of data\n",
    "- Modify the plot: adding labels, axis styles, line styles etc\n"
   ]
  },
  {
   "cell_type": "markdown",
   "metadata": {},
   "source": [
    "[Back to the top](#In-this-lecture)"
   ]
  },
  {
   "cell_type": "markdown",
   "metadata": {},
   "source": [
    "<h2>Julia's modify-the-argument functions</h2>\n",
    "\n",
    "A lovely feature of Julia is the convention of labelling modify-the-argument functions with an exclamation mark.\n",
    "\n",
    "For example, consider the function ``fill!()``, illustrated below."
   ]
  },
  {
   "cell_type": "code",
   "execution_count": 2,
   "metadata": {},
   "outputs": [
    {
     "data": {
      "text/plain": [
       "4-element Array{Any,1}:\n",
       " \"hello ... word\"\n",
       " \"hello ... word\"\n",
       " \"hello ... word\"\n",
       " \"hello ... word\""
      ]
     },
     "execution_count": 2,
     "metadata": {},
     "output_type": "execute_result"
    }
   ],
   "source": [
    "tempvar = Array{Any}(undef,4)\n",
    "fill!(tempvar, \"hello ... word\")"
   ]
  },
  {
   "cell_type": "code",
   "execution_count": 4,
   "metadata": {},
   "outputs": [
    {
     "data": {
      "text/plain": [
       "4-element Array{Any,1}:\n",
       " π\n",
       " π\n",
       " π\n",
       " π"
      ]
     },
     "execution_count": 4,
     "metadata": {},
     "output_type": "execute_result"
    }
   ],
   "source": [
    "fill!(tempvar, π)"
   ]
  },
  {
   "cell_type": "markdown",
   "metadata": {},
   "source": [
    "We see that quite a few functions have a plain form and an exclamation form, for example ```any``` and ```any!```. \n",
    "\n",
    "Many of the exclamation-ending-modify-in-place functions do things like add or remove values. They tend to be low level functions. The advantage of course is that as values are created they are written to space in memory that is already in use. This can speed up one's code significantly, and can also be important when your data sets are so large that memory efficiency becomes an issue."
   ]
  },
  {
   "cell_type": "markdown",
   "metadata": {},
   "source": [
    "[Back to the top](#In-this-lecture)"
   ]
  },
  {
   "cell_type": "markdown",
   "metadata": {},
   "source": [
    "<h2>The difference between \"plot\" and \"plot!\"</h2>\n",
    "\n",
    "As we remarked, Plots is a package for using all the Julia plotting packages. The designer of Plots made the interesting choice (I think) to have only one active plot: if you want to make a different plot, you save your current plot and start on a new one. This simplifies the display of a plot. In our case, the notebook allows us to view different plots, because each plot is saved with its particular cell. In keeping with the idea of Plots, you cannot associate more than one plot with a cell.\n",
    "\n",
    "So in general, if you call p``lot()`` a second time, it wipes out the old plot and draws a completely new one. But Plots *also* doesn't allow you to specify multiple different x-values for your plot. You can plot many different curves, as we did for the different countries' Ebola numbers (week 2, lecture 5), but only if they all use the same x-values.\n",
    "\n",
    "To enable us to plot completely different curves, not only in style and colour and so on but also completely different x- and y-values, Plots gives us a function that modifies an existing plot. This function is ``plot!()``.\n",
    "\n",
    "So the idea is the following: specify a plot for the first set of data using ``plot()``, and then specify, on the same plot, a second set of data by using ``plot!``."
   ]
  },
  {
   "cell_type": "markdown",
   "metadata": {},
   "source": [
    "[Back to the top](#In-this-lecture)"
   ]
  },
  {
   "cell_type": "markdown",
   "metadata": {},
   "source": [
    "<h2>An example: approximating the cosine function</h2>\n",
    "\n",
    "An example will make this clear. It is well known that the cosine function has approximations based on  Taylor series. We will use the fact that \n",
    "\n",
    "$cos(x) \\approx 1 - \\dfrac{x^2}{2} + \\dfrac{x^4}{24} - \\dfrac{x^6}{720}$\n",
    "\n",
    "is an excellent approximation as long as $x$ is near zero. We will pretend the approximate values are experimental data, so there are just a few points. Then we compare the actual function as a curve, and compare them.\n",
    "\n",
    "While we're at it, let's practice writing functions. We will write a function that takes a whole vector as input, and one by one evaluates the elements using the approximation formula, and then returns an output vector of the same size as the input."
   ]
  },
  {
   "cell_type": "code",
   "execution_count": 6,
   "metadata": {},
   "outputs": [],
   "source": [
    "function approxcos(x)\n",
    "    #initialise the output ... note the use of size() to specify the dimensions of the output vector\n",
    "    outval = Array{Any}(undef,size(x))  \n",
    "    \n",
    "    # now we loop over the input vector, and for each  element calculate and store the approximation\n",
    "    ii = 0  # this will be the index into the vector\n",
    "    for aa in x   # this aa is just a number, an element of the vector\n",
    "        y = 1 - aa^2/2 + aa^4/24 - aa^6/720 + aa^8/(56*720) # the approximation ...\n",
    "        ii = ii+1            #this sets the index correctly\n",
    "        outval[ii] = y     # and this stores the approximation in the right place\n",
    "    \n",
    "    end\n",
    "    \n",
    "    return outval  \n",
    "end\n",
    "\n",
    "\n",
    "\n",
    "\n",
    "x1 = 4*rand(10)  # rand() is one of several random number functions in Julia. \n",
    "#                  It returns numbers that uniformly fill the interval [0, 1)\n",
    "#                   .... here we use it get a set of sampling points in the interval [0, 4)\n",
    "\n",
    "x2 = range(0., stop=4., step=0.01)   # look up range() using \"?\" ... it's a nice way to get evenly spaced points\n",
    "\n",
    "\n",
    "y1 = approxcos(x1)\n",
    "y2 = cos.(x2);\n"
   ]
  },
  {
   "cell_type": "code",
   "execution_count": 7,
   "metadata": {
    "scrolled": false
   },
   "outputs": [
    {
     "data": {
      "image/svg+xml": [
       "<?xml version=\"1.0\" encoding=\"utf-8\"?>\n",
       "<svg xmlns=\"http://www.w3.org/2000/svg\" xmlns:xlink=\"http://www.w3.org/1999/xlink\" width=\"600\" height=\"400\" viewBox=\"0 0 2400 1600\">\n",
       "<defs>\n",
       "  <clipPath id=\"clip340\">\n",
       "    <rect x=\"0\" y=\"0\" width=\"2400\" height=\"1600\"/>\n",
       "  </clipPath>\n",
       "</defs>\n",
       "<path clip-path=\"url(#clip340)\" d=\"\n",
       "M0 1600 L2400 1600 L2400 0 L0 0  Z\n",
       "  \" fill=\"#ffffff\" fill-rule=\"evenodd\" fill-opacity=\"1\"/>\n",
       "<defs>\n",
       "  <clipPath id=\"clip341\">\n",
       "    <rect x=\"480\" y=\"0\" width=\"1681\" height=\"1600\"/>\n",
       "  </clipPath>\n",
       "</defs>\n",
       "<path clip-path=\"url(#clip340)\" d=\"\n",
       "M162.455 1486.45 L2352.76 1486.45 L2352.76 123.472 L162.455 123.472  Z\n",
       "  \" fill=\"#ffffff\" fill-rule=\"evenodd\" fill-opacity=\"1\"/>\n",
       "<defs>\n",
       "  <clipPath id=\"clip342\">\n",
       "    <rect x=\"162\" y=\"123\" width=\"2191\" height=\"1364\"/>\n",
       "  </clipPath>\n",
       "</defs>\n",
       "<polyline clip-path=\"url(#clip342)\" style=\"stroke:#000000; stroke-width:2; stroke-opacity:0.1; fill:none\" points=\"\n",
       "  224.444,1486.45 224.444,123.472 \n",
       "  \"/>\n",
       "<polyline clip-path=\"url(#clip342)\" style=\"stroke:#000000; stroke-width:2; stroke-opacity:0.1; fill:none\" points=\"\n",
       "  741.025,1486.45 741.025,123.472 \n",
       "  \"/>\n",
       "<polyline clip-path=\"url(#clip342)\" style=\"stroke:#000000; stroke-width:2; stroke-opacity:0.1; fill:none\" points=\"\n",
       "  1257.61,1486.45 1257.61,123.472 \n",
       "  \"/>\n",
       "<polyline clip-path=\"url(#clip342)\" style=\"stroke:#000000; stroke-width:2; stroke-opacity:0.1; fill:none\" points=\"\n",
       "  1774.19,1486.45 1774.19,123.472 \n",
       "  \"/>\n",
       "<polyline clip-path=\"url(#clip342)\" style=\"stroke:#000000; stroke-width:2; stroke-opacity:0.1; fill:none\" points=\"\n",
       "  2290.77,1486.45 2290.77,123.472 \n",
       "  \"/>\n",
       "<polyline clip-path=\"url(#clip342)\" style=\"stroke:#000000; stroke-width:2; stroke-opacity:0.1; fill:none\" points=\"\n",
       "  162.455,1447.87 2352.76,1447.87 \n",
       "  \"/>\n",
       "<polyline clip-path=\"url(#clip342)\" style=\"stroke:#000000; stroke-width:2; stroke-opacity:0.1; fill:none\" points=\"\n",
       "  162.455,1126.42 2352.76,1126.42 \n",
       "  \"/>\n",
       "<polyline clip-path=\"url(#clip342)\" style=\"stroke:#000000; stroke-width:2; stroke-opacity:0.1; fill:none\" points=\"\n",
       "  162.455,804.96 2352.76,804.96 \n",
       "  \"/>\n",
       "<polyline clip-path=\"url(#clip342)\" style=\"stroke:#000000; stroke-width:2; stroke-opacity:0.1; fill:none\" points=\"\n",
       "  162.455,483.504 2352.76,483.504 \n",
       "  \"/>\n",
       "<polyline clip-path=\"url(#clip342)\" style=\"stroke:#000000; stroke-width:2; stroke-opacity:0.1; fill:none\" points=\"\n",
       "  162.455,162.047 2352.76,162.047 \n",
       "  \"/>\n",
       "<polyline clip-path=\"url(#clip340)\" style=\"stroke:#000000; stroke-width:4; stroke-opacity:1; fill:none\" points=\"\n",
       "  162.455,1486.45 2352.76,1486.45 \n",
       "  \"/>\n",
       "<polyline clip-path=\"url(#clip340)\" style=\"stroke:#000000; stroke-width:4; stroke-opacity:1; fill:none\" points=\"\n",
       "  162.455,1486.45 162.455,123.472 \n",
       "  \"/>\n",
       "<polyline clip-path=\"url(#clip340)\" style=\"stroke:#000000; stroke-width:4; stroke-opacity:1; fill:none\" points=\"\n",
       "  224.444,1486.45 224.444,1470.09 \n",
       "  \"/>\n",
       "<polyline clip-path=\"url(#clip340)\" style=\"stroke:#000000; stroke-width:4; stroke-opacity:1; fill:none\" points=\"\n",
       "  741.025,1486.45 741.025,1470.09 \n",
       "  \"/>\n",
       "<polyline clip-path=\"url(#clip340)\" style=\"stroke:#000000; stroke-width:4; stroke-opacity:1; fill:none\" points=\"\n",
       "  1257.61,1486.45 1257.61,1470.09 \n",
       "  \"/>\n",
       "<polyline clip-path=\"url(#clip340)\" style=\"stroke:#000000; stroke-width:4; stroke-opacity:1; fill:none\" points=\"\n",
       "  1774.19,1486.45 1774.19,1470.09 \n",
       "  \"/>\n",
       "<polyline clip-path=\"url(#clip340)\" style=\"stroke:#000000; stroke-width:4; stroke-opacity:1; fill:none\" points=\"\n",
       "  2290.77,1486.45 2290.77,1470.09 \n",
       "  \"/>\n",
       "<polyline clip-path=\"url(#clip340)\" style=\"stroke:#000000; stroke-width:4; stroke-opacity:1; fill:none\" points=\"\n",
       "  162.455,1447.87 188.738,1447.87 \n",
       "  \"/>\n",
       "<polyline clip-path=\"url(#clip340)\" style=\"stroke:#000000; stroke-width:4; stroke-opacity:1; fill:none\" points=\"\n",
       "  162.455,1126.42 188.738,1126.42 \n",
       "  \"/>\n",
       "<polyline clip-path=\"url(#clip340)\" style=\"stroke:#000000; stroke-width:4; stroke-opacity:1; fill:none\" points=\"\n",
       "  162.455,804.96 188.738,804.96 \n",
       "  \"/>\n",
       "<polyline clip-path=\"url(#clip340)\" style=\"stroke:#000000; stroke-width:4; stroke-opacity:1; fill:none\" points=\"\n",
       "  162.455,483.504 188.738,483.504 \n",
       "  \"/>\n",
       "<polyline clip-path=\"url(#clip340)\" style=\"stroke:#000000; stroke-width:4; stroke-opacity:1; fill:none\" points=\"\n",
       "  162.455,162.047 188.738,162.047 \n",
       "  \"/>\n",
       "<path clip-path=\"url(#clip340)\" d=\"M 0 0 M224.444 1508.44 Q220.833 1508.44 219.005 1512 Q217.199 1515.55 217.199 1522.67 Q217.199 1529.78 219.005 1533.35 Q220.833 1536.89 224.444 1536.89 Q228.079 1536.89 229.884 1533.35 Q231.713 1529.78 231.713 1522.67 Q231.713 1515.55 229.884 1512 Q228.079 1508.44 224.444 1508.44 M224.444 1504.73 Q230.254 1504.73 233.31 1509.34 Q236.389 1513.92 236.389 1522.67 Q236.389 1531.4 233.31 1536.01 Q230.254 1540.59 224.444 1540.59 Q218.634 1540.59 215.556 1536.01 Q212.5 1531.4 212.5 1522.67 Q212.5 1513.92 215.556 1509.34 Q218.634 1504.73 224.444 1504.73 Z\" fill=\"#000000\" fill-rule=\"evenodd\" fill-opacity=\"1\" /><path clip-path=\"url(#clip340)\" d=\"M 0 0 M731.407 1535.98 L739.046 1535.98 L739.046 1509.62 L730.736 1511.29 L730.736 1507.03 L738.999 1505.36 L743.675 1505.36 L743.675 1535.98 L751.314 1535.98 L751.314 1539.92 L731.407 1539.92 L731.407 1535.98 Z\" fill=\"#000000\" fill-rule=\"evenodd\" fill-opacity=\"1\" /><path clip-path=\"url(#clip340)\" d=\"M 0 0 M1252.26 1535.98 L1268.58 1535.98 L1268.58 1539.92 L1246.63 1539.92 L1246.63 1535.98 Q1249.3 1533.23 1253.88 1528.6 Q1258.48 1523.95 1259.67 1522.61 Q1261.91 1520.08 1262.79 1518.35 Q1263.69 1516.59 1263.69 1514.9 Q1263.69 1512.14 1261.75 1510.41 Q1259.83 1508.67 1256.73 1508.67 Q1254.53 1508.67 1252.07 1509.43 Q1249.64 1510.2 1246.86 1511.75 L1246.86 1507.03 Q1249.69 1505.89 1252.14 1505.31 Q1254.6 1504.73 1256.63 1504.73 Q1262 1504.73 1265.2 1507.42 Q1268.39 1510.11 1268.39 1514.6 Q1268.39 1516.73 1267.58 1518.65 Q1266.8 1520.54 1264.69 1523.14 Q1264.11 1523.81 1261.01 1527.03 Q1257.91 1530.22 1252.26 1535.98 Z\" fill=\"#000000\" fill-rule=\"evenodd\" fill-opacity=\"1\" /><path clip-path=\"url(#clip340)\" d=\"M 0 0 M1778.43 1521.29 Q1781.79 1522 1783.66 1524.27 Q1785.56 1526.54 1785.56 1529.87 Q1785.56 1534.99 1782.04 1537.79 Q1778.53 1540.59 1772.04 1540.59 Q1769.87 1540.59 1767.55 1540.15 Q1765.26 1539.73 1762.81 1538.88 L1762.81 1534.36 Q1764.75 1535.5 1767.07 1536.08 Q1769.38 1536.66 1771.91 1536.66 Q1776.3 1536.66 1778.6 1534.92 Q1780.91 1533.18 1780.91 1529.87 Q1780.91 1526.82 1778.76 1525.11 Q1776.63 1523.37 1772.81 1523.37 L1768.78 1523.37 L1768.78 1519.53 L1772.99 1519.53 Q1776.44 1519.53 1778.27 1518.16 Q1780.1 1516.77 1780.1 1514.18 Q1780.1 1511.52 1778.2 1510.11 Q1776.33 1508.67 1772.81 1508.67 Q1770.89 1508.67 1768.69 1509.09 Q1766.49 1509.5 1763.85 1510.38 L1763.85 1506.22 Q1766.51 1505.48 1768.83 1505.11 Q1771.16 1504.73 1773.23 1504.73 Q1778.55 1504.73 1781.65 1507.17 Q1784.75 1509.57 1784.75 1513.69 Q1784.75 1516.56 1783.11 1518.55 Q1781.47 1520.52 1778.43 1521.29 Z\" fill=\"#000000\" fill-rule=\"evenodd\" fill-opacity=\"1\" /><path clip-path=\"url(#clip340)\" d=\"M 0 0 M2293.78 1509.43 L2281.97 1527.88 L2293.78 1527.88 L2293.78 1509.43 M2292.55 1505.36 L2298.43 1505.36 L2298.43 1527.88 L2303.36 1527.88 L2303.36 1531.77 L2298.43 1531.77 L2298.43 1539.92 L2293.78 1539.92 L2293.78 1531.77 L2278.17 1531.77 L2278.17 1527.26 L2292.55 1505.36 Z\" fill=\"#000000\" fill-rule=\"evenodd\" fill-opacity=\"1\" /><path clip-path=\"url(#clip340)\" d=\"M 0 0 M63.2236 1450.27 L75.7004 1450.27 L75.7004 1454.07 L63.2236 1454.07 L63.2236 1450.27 Z\" fill=\"#000000\" fill-rule=\"evenodd\" fill-opacity=\"1\" /><path clip-path=\"url(#clip340)\" d=\"M 0 0 M81.58 1461.22 L89.2188 1461.22 L89.2188 1434.85 L80.9087 1436.52 L80.9087 1432.26 L89.1725 1430.59 L93.8484 1430.59 L93.8484 1461.22 L101.487 1461.22 L101.487 1465.15 L81.58 1465.15 L81.58 1461.22 Z\" fill=\"#000000\" fill-rule=\"evenodd\" fill-opacity=\"1\" /><path clip-path=\"url(#clip340)\" d=\"M 0 0 M106.557 1459.27 L111.441 1459.27 L111.441 1465.15 L106.557 1465.15 L106.557 1459.27 Z\" fill=\"#000000\" fill-rule=\"evenodd\" fill-opacity=\"1\" /><path clip-path=\"url(#clip340)\" d=\"M 0 0 M126.51 1433.67 Q122.899 1433.67 121.071 1437.24 Q119.265 1440.78 119.265 1447.91 Q119.265 1455.02 121.071 1458.58 Q122.899 1462.12 126.51 1462.12 Q130.145 1462.12 131.95 1458.58 Q133.779 1455.02 133.779 1447.91 Q133.779 1440.78 131.95 1437.24 Q130.145 1433.67 126.51 1433.67 M126.51 1429.97 Q132.32 1429.97 135.376 1434.58 Q138.455 1439.16 138.455 1447.91 Q138.455 1456.64 135.376 1461.24 Q132.32 1465.83 126.51 1465.83 Q120.7 1465.83 117.621 1461.24 Q114.566 1456.64 114.566 1447.91 Q114.566 1439.16 117.621 1434.58 Q120.7 1429.97 126.51 1429.97 Z\" fill=\"#000000\" fill-rule=\"evenodd\" fill-opacity=\"1\" /><path clip-path=\"url(#clip340)\" d=\"M 0 0 M62.9921 1128.81 L75.4689 1128.81 L75.4689 1132.61 L62.9921 1132.61 L62.9921 1128.81 Z\" fill=\"#000000\" fill-rule=\"evenodd\" fill-opacity=\"1\" /><path clip-path=\"url(#clip340)\" d=\"M 0 0 M90.5383 1112.22 Q86.9272 1112.22 85.0985 1115.78 Q83.2929 1119.32 83.2929 1126.45 Q83.2929 1133.56 85.0985 1137.12 Q86.9272 1140.66 90.5383 1140.66 Q94.1725 1140.66 95.9781 1137.12 Q97.8068 1133.56 97.8068 1126.45 Q97.8068 1119.32 95.9781 1115.78 Q94.1725 1112.22 90.5383 1112.22 M90.5383 1108.51 Q96.3484 1108.51 99.404 1113.12 Q102.483 1117.7 102.483 1126.45 Q102.483 1135.18 99.404 1139.79 Q96.3484 1144.37 90.5383 1144.37 Q84.7281 1144.37 81.6494 1139.79 Q78.5939 1135.18 78.5939 1126.45 Q78.5939 1117.7 81.6494 1113.12 Q84.7281 1108.51 90.5383 1108.51 Z\" fill=\"#000000\" fill-rule=\"evenodd\" fill-opacity=\"1\" /><path clip-path=\"url(#clip340)\" d=\"M 0 0 M107.552 1137.82 L112.436 1137.82 L112.436 1143.7 L107.552 1143.7 L107.552 1137.82 Z\" fill=\"#000000\" fill-rule=\"evenodd\" fill-opacity=\"1\" /><path clip-path=\"url(#clip340)\" d=\"M 0 0 M117.552 1109.14 L135.908 1109.14 L135.908 1113.07 L121.834 1113.07 L121.834 1121.54 Q122.853 1121.2 123.871 1121.04 Q124.89 1120.85 125.908 1120.85 Q131.695 1120.85 135.075 1124.02 Q138.455 1127.19 138.455 1132.61 Q138.455 1138.19 134.982 1141.29 Q131.51 1144.37 125.191 1144.37 Q123.015 1144.37 120.746 1144 Q118.501 1143.63 116.094 1142.89 L116.094 1138.19 Q118.177 1139.32 120.399 1139.88 Q122.621 1140.43 125.098 1140.43 Q129.103 1140.43 131.441 1138.33 Q133.779 1136.22 133.779 1132.61 Q133.779 1129 131.441 1126.89 Q129.103 1124.79 125.098 1124.79 Q123.223 1124.79 121.348 1125.2 Q119.496 1125.62 117.552 1126.5 L117.552 1109.14 Z\" fill=\"#000000\" fill-rule=\"evenodd\" fill-opacity=\"1\" /><path clip-path=\"url(#clip340)\" d=\"M 0 0 M89.5429 790.759 Q85.9318 790.759 84.1031 794.324 Q82.2976 797.866 82.2976 804.995 Q82.2976 812.102 84.1031 815.666 Q85.9318 819.208 89.5429 819.208 Q93.1771 819.208 94.9827 815.666 Q96.8114 812.102 96.8114 804.995 Q96.8114 797.866 94.9827 794.324 Q93.1771 790.759 89.5429 790.759 M89.5429 787.055 Q95.3531 787.055 98.4086 791.662 Q101.487 796.245 101.487 804.995 Q101.487 813.722 98.4086 818.328 Q95.3531 822.912 89.5429 822.912 Q83.7328 822.912 80.6541 818.328 Q77.5985 813.722 77.5985 804.995 Q77.5985 796.245 80.6541 791.662 Q83.7328 787.055 89.5429 787.055 Z\" fill=\"#000000\" fill-rule=\"evenodd\" fill-opacity=\"1\" /><path clip-path=\"url(#clip340)\" d=\"M 0 0 M106.557 816.361 L111.441 816.361 L111.441 822.24 L106.557 822.24 L106.557 816.361 Z\" fill=\"#000000\" fill-rule=\"evenodd\" fill-opacity=\"1\" /><path clip-path=\"url(#clip340)\" d=\"M 0 0 M126.51 790.759 Q122.899 790.759 121.071 794.324 Q119.265 797.866 119.265 804.995 Q119.265 812.102 121.071 815.666 Q122.899 819.208 126.51 819.208 Q130.145 819.208 131.95 815.666 Q133.779 812.102 133.779 804.995 Q133.779 797.866 131.95 794.324 Q130.145 790.759 126.51 790.759 M126.51 787.055 Q132.32 787.055 135.376 791.662 Q138.455 796.245 138.455 804.995 Q138.455 813.722 135.376 818.328 Q132.32 822.912 126.51 822.912 Q120.7 822.912 117.621 818.328 Q114.566 813.722 114.566 804.995 Q114.566 796.245 117.621 791.662 Q120.7 787.055 126.51 787.055 Z\" fill=\"#000000\" fill-rule=\"evenodd\" fill-opacity=\"1\" /><path clip-path=\"url(#clip340)\" d=\"M 0 0 M90.5383 469.302 Q86.9272 469.302 85.0985 472.867 Q83.2929 476.409 83.2929 483.538 Q83.2929 490.645 85.0985 494.21 Q86.9272 497.751 90.5383 497.751 Q94.1725 497.751 95.9781 494.21 Q97.8068 490.645 97.8068 483.538 Q97.8068 476.409 95.9781 472.867 Q94.1725 469.302 90.5383 469.302 M90.5383 465.599 Q96.3484 465.599 99.404 470.205 Q102.483 474.788 102.483 483.538 Q102.483 492.265 99.404 496.872 Q96.3484 501.455 90.5383 501.455 Q84.7281 501.455 81.6494 496.872 Q78.5939 492.265 78.5939 483.538 Q78.5939 474.788 81.6494 470.205 Q84.7281 465.599 90.5383 465.599 Z\" fill=\"#000000\" fill-rule=\"evenodd\" fill-opacity=\"1\" /><path clip-path=\"url(#clip340)\" d=\"M 0 0 M107.552 494.904 L112.436 494.904 L112.436 500.784 L107.552 500.784 L107.552 494.904 Z\" fill=\"#000000\" fill-rule=\"evenodd\" fill-opacity=\"1\" /><path clip-path=\"url(#clip340)\" d=\"M 0 0 M117.552 466.224 L135.908 466.224 L135.908 470.159 L121.834 470.159 L121.834 478.631 Q122.853 478.284 123.871 478.122 Q124.89 477.937 125.908 477.937 Q131.695 477.937 135.075 481.108 Q138.455 484.279 138.455 489.696 Q138.455 495.274 134.982 498.376 Q131.51 501.455 125.191 501.455 Q123.015 501.455 120.746 501.085 Q118.501 500.714 116.094 499.973 L116.094 495.274 Q118.177 496.409 120.399 496.964 Q122.621 497.52 125.098 497.52 Q129.103 497.52 131.441 495.413 Q133.779 493.307 133.779 489.696 Q133.779 486.085 131.441 483.978 Q129.103 481.872 125.098 481.872 Q123.223 481.872 121.348 482.288 Q119.496 482.705 117.552 483.585 L117.552 466.224 Z\" fill=\"#000000\" fill-rule=\"evenodd\" fill-opacity=\"1\" /><path clip-path=\"url(#clip340)\" d=\"M 0 0 M81.58 175.392 L89.2188 175.392 L89.2188 149.026 L80.9087 150.693 L80.9087 146.434 L89.1725 144.767 L93.8484 144.767 L93.8484 175.392 L101.487 175.392 L101.487 179.327 L81.58 179.327 L81.58 175.392 Z\" fill=\"#000000\" fill-rule=\"evenodd\" fill-opacity=\"1\" /><path clip-path=\"url(#clip340)\" d=\"M 0 0 M106.557 173.447 L111.441 173.447 L111.441 179.327 L106.557 179.327 L106.557 173.447 Z\" fill=\"#000000\" fill-rule=\"evenodd\" fill-opacity=\"1\" /><path clip-path=\"url(#clip340)\" d=\"M 0 0 M126.51 147.846 Q122.899 147.846 121.071 151.41 Q119.265 154.952 119.265 162.082 Q119.265 169.188 121.071 172.753 Q122.899 176.295 126.51 176.295 Q130.145 176.295 131.95 172.753 Q133.779 169.188 133.779 162.082 Q133.779 154.952 131.95 151.41 Q130.145 147.846 126.51 147.846 M126.51 144.142 Q132.32 144.142 135.376 148.748 Q138.455 153.332 138.455 162.082 Q138.455 170.808 135.376 175.415 Q132.32 179.998 126.51 179.998 Q120.7 179.998 117.621 175.415 Q114.566 170.808 114.566 162.082 Q114.566 153.332 117.621 148.748 Q120.7 144.142 126.51 144.142 Z\" fill=\"#000000\" fill-rule=\"evenodd\" fill-opacity=\"1\" /><path clip-path=\"url(#clip340)\" d=\"M 0 0 M476.064 12.096 L484.247 12.096 L484.247 72.576 L476.064 72.576 L476.064 12.096 Z\" fill=\"#000000\" fill-rule=\"evenodd\" fill-opacity=\"1\" /><path clip-path=\"url(#clip340)\" d=\"M 0 0 M492.065 9.54393 L499.519 9.54393 L499.519 72.576 L492.065 72.576 L492.065 9.54393 Z\" fill=\"#000000\" fill-rule=\"evenodd\" fill-opacity=\"1\" /><path clip-path=\"url(#clip340)\" d=\"M 0 0 M507.337 9.54393 L514.791 9.54393 L514.791 72.576 L507.337 72.576 L507.337 9.54393 Z\" fill=\"#000000\" fill-rule=\"evenodd\" fill-opacity=\"1\" /><path clip-path=\"url(#clip340)\" d=\"M 0 0 M521.84 54.671 L521.84 27.2059 L529.293 27.2059 L529.293 54.3874 Q529.293 60.8284 531.805 64.0691 Q534.316 67.2693 539.339 67.2693 Q545.375 67.2693 548.859 63.421 Q552.383 59.5726 552.383 52.9291 L552.383 27.2059 L559.837 27.2059 L559.837 72.576 L552.383 72.576 L552.383 65.6084 Q549.669 69.7404 546.064 71.7658 Q542.499 73.7508 537.76 73.7508 Q529.941 73.7508 525.89 68.8897 Q521.84 64.0286 521.84 54.671 M540.595 26.1121 L540.595 26.1121 Z\" fill=\"#000000\" fill-rule=\"evenodd\" fill-opacity=\"1\" /><path clip-path=\"url(#clip340)\" d=\"M 0 0 M596.579 28.5427 L596.579 35.5912 Q593.419 33.9709 590.016 33.1607 Q586.614 32.3505 582.968 32.3505 Q577.418 32.3505 574.623 34.0519 Q571.868 35.7533 571.868 39.156 Q571.868 41.7486 573.853 43.2475 Q575.838 44.7058 581.833 46.0426 L584.386 46.6097 Q592.325 48.3111 595.647 51.4303 Q599.009 54.509 599.009 60.0587 Q599.009 66.3781 593.986 70.0644 Q589.004 73.7508 580.254 73.7508 Q576.608 73.7508 572.638 73.0216 Q568.709 72.3329 564.334 70.9151 L564.334 63.2184 Q568.465 65.3654 572.476 66.4591 Q576.486 67.5124 580.416 67.5124 Q585.682 67.5124 588.517 65.73 Q591.353 63.9071 591.353 60.6258 Q591.353 57.5877 589.287 55.9673 Q587.262 54.3469 580.335 52.8481 L577.742 52.2405 Q570.815 50.7821 567.736 47.7845 Q564.658 44.7463 564.658 39.4801 Q564.658 33.0797 569.195 29.5959 Q573.732 26.1121 582.077 26.1121 Q586.208 26.1121 589.854 26.7198 Q593.5 27.3274 596.579 28.5427 Z\" fill=\"#000000\" fill-rule=\"evenodd\" fill-opacity=\"1\" /><path clip-path=\"url(#clip340)\" d=\"M 0 0 M614.2 14.324 L614.2 27.2059 L629.553 27.2059 L629.553 32.9987 L614.2 32.9987 L614.2 57.6282 Q614.2 63.1779 615.699 64.7578 Q617.238 66.3376 621.897 66.3376 L629.553 66.3376 L629.553 72.576 L621.897 72.576 Q613.268 72.576 609.987 69.3758 Q606.706 66.1351 606.706 57.6282 L606.706 32.9987 L601.237 32.9987 L601.237 27.2059 L606.706 27.2059 L606.706 14.324 L614.2 14.324 Z\" fill=\"#000000\" fill-rule=\"evenodd\" fill-opacity=\"1\" /><path clip-path=\"url(#clip340)\" d=\"M 0 0 M663.662 34.1734 Q662.406 33.4443 660.907 33.1202 Q659.449 32.7556 657.666 32.7556 Q651.347 32.7556 647.944 36.8875 Q644.582 40.9789 644.582 48.6757 L644.582 72.576 L637.088 72.576 L637.088 27.2059 L644.582 27.2059 L644.582 34.2544 Q646.931 30.1225 650.699 28.1376 Q654.466 26.1121 659.854 26.1121 Q660.624 26.1121 661.555 26.2337 Q662.487 26.3147 663.621 26.5172 L663.662 34.1734 Z\" fill=\"#000000\" fill-rule=\"evenodd\" fill-opacity=\"1\" /><path clip-path=\"url(#clip340)\" d=\"M 0 0 M692.099 49.7694 Q683.066 49.7694 679.582 51.8354 Q676.098 53.9013 676.098 58.8839 Q676.098 62.8538 678.691 65.2034 Q681.324 67.5124 685.82 67.5124 Q692.018 67.5124 695.745 63.1374 Q699.512 58.7219 699.512 51.4303 L699.512 49.7694 L692.099 49.7694 M706.966 46.6907 L706.966 72.576 L699.512 72.576 L699.512 65.6895 Q696.96 69.8214 693.152 71.8063 Q689.344 73.7508 683.835 73.7508 Q676.868 73.7508 672.736 69.8619 Q668.644 65.9325 668.644 59.3701 Q668.644 51.7138 673.748 47.825 Q678.893 43.9361 689.061 43.9361 L699.512 43.9361 L699.512 43.2069 Q699.512 38.0623 696.109 35.2672 Q692.747 32.4315 686.63 32.4315 Q682.741 32.4315 679.055 33.3632 Q675.369 34.295 671.966 36.1584 L671.966 29.2718 Q676.057 27.692 679.906 26.9223 Q683.754 26.1121 687.4 26.1121 Q697.244 26.1121 702.105 31.2163 Q706.966 36.3204 706.966 46.6907 Z\" fill=\"#000000\" fill-rule=\"evenodd\" fill-opacity=\"1\" /><path clip-path=\"url(#clip340)\" d=\"M 0 0 M722.157 14.324 L722.157 27.2059 L737.51 27.2059 L737.51 32.9987 L722.157 32.9987 L722.157 57.6282 Q722.157 63.1779 723.656 64.7578 Q725.195 66.3376 729.853 66.3376 L737.51 66.3376 L737.51 72.576 L729.853 72.576 Q721.225 72.576 717.944 69.3758 Q714.663 66.1351 714.663 57.6282 L714.663 32.9987 L709.194 32.9987 L709.194 27.2059 L714.663 27.2059 L714.663 14.324 L722.157 14.324 Z\" fill=\"#000000\" fill-rule=\"evenodd\" fill-opacity=\"1\" /><path clip-path=\"url(#clip340)\" d=\"M 0 0 M745.328 27.2059 L752.782 27.2059 L752.782 72.576 L745.328 72.576 L745.328 27.2059 M745.328 9.54393 L752.782 9.54393 L752.782 18.9825 L745.328 18.9825 L745.328 9.54393 Z\" fill=\"#000000\" fill-rule=\"evenodd\" fill-opacity=\"1\" /><path clip-path=\"url(#clip340)\" d=\"M 0 0 M798.314 45.1919 L798.314 72.576 L790.86 72.576 L790.86 45.4349 Q790.86 38.994 788.349 35.7938 Q785.837 32.5936 780.814 32.5936 Q774.778 32.5936 771.294 36.4419 Q767.81 40.2903 767.81 46.9338 L767.81 72.576 L760.316 72.576 L760.316 27.2059 L767.81 27.2059 L767.81 34.2544 Q770.484 30.163 774.089 28.1376 Q777.735 26.1121 782.475 26.1121 Q790.293 26.1121 794.303 30.9732 Q798.314 35.7938 798.314 45.1919 Z\" fill=\"#000000\" fill-rule=\"evenodd\" fill-opacity=\"1\" /><path clip-path=\"url(#clip340)\" d=\"M 0 0 M835.987 49.3643 Q835.987 41.2625 832.625 36.8065 Q829.303 32.3505 823.267 32.3505 Q817.272 32.3505 813.91 36.8065 Q810.588 41.2625 810.588 49.3643 Q810.588 57.4256 813.91 61.8816 Q817.272 66.3376 823.267 66.3376 Q829.303 66.3376 832.625 61.8816 Q835.987 57.4256 835.987 49.3643 M843.441 66.9452 Q843.441 78.5308 838.296 84.1616 Q833.152 89.8329 822.538 89.8329 Q818.609 89.8329 815.125 89.2252 Q811.641 88.6581 808.36 87.4428 L808.36 80.1917 Q811.641 81.9741 814.841 82.8248 Q818.042 83.6755 821.363 83.6755 Q828.696 83.6755 832.341 79.8271 Q835.987 76.0193 835.987 68.282 L835.987 64.5957 Q833.678 68.6061 830.073 70.5911 Q826.468 72.576 821.444 72.576 Q813.1 72.576 807.995 66.2161 Q802.891 59.8562 802.891 49.3643 Q802.891 38.832 807.995 32.472 Q813.1 26.1121 821.444 26.1121 Q826.468 26.1121 830.073 28.0971 Q833.678 30.082 835.987 34.0924 L835.987 27.2059 L843.441 27.2059 L843.441 66.9452 Z\" fill=\"#000000\" fill-rule=\"evenodd\" fill-opacity=\"1\" /><path clip-path=\"url(#clip340)\" d=\"M 0 0 M897.196 39.075 Q891.687 39.075 888.446 42.8424 Q885.246 46.6097 885.246 53.1722 Q885.246 59.6941 888.446 63.502 Q891.687 67.2693 897.196 67.2693 Q902.706 67.2693 905.906 63.502 Q909.147 59.6941 909.147 53.1722 Q909.147 46.6097 905.906 42.8424 Q902.706 39.075 897.196 39.075 M913.44 13.4328 L913.44 20.8865 Q910.362 19.4281 907.202 18.6585 Q904.083 17.8888 901.004 17.8888 Q892.902 17.8888 888.608 23.3575 Q884.355 28.8262 883.747 39.8852 Q886.137 36.3609 889.743 34.4975 Q893.348 32.5936 897.682 32.5936 Q906.797 32.5936 912.063 38.1433 Q917.37 43.6525 917.37 53.1722 Q917.37 62.4892 911.861 68.12 Q906.351 73.7508 897.196 73.7508 Q886.705 73.7508 881.155 65.73 Q875.605 57.6687 875.605 42.3968 Q875.605 28.0566 882.411 19.5497 Q889.216 11.0023 900.68 11.0023 Q903.759 11.0023 906.878 11.6099 Q910.038 12.2175 913.44 13.4328 Z\" fill=\"#000000\" fill-rule=\"evenodd\" fill-opacity=\"1\" /><path clip-path=\"url(#clip340)\" d=\"M 0 0 M932.561 14.324 L932.561 27.2059 L947.914 27.2059 L947.914 32.9987 L932.561 32.9987 L932.561 57.6282 Q932.561 63.1779 934.06 64.7578 Q935.599 66.3376 940.257 66.3376 L947.914 66.3376 L947.914 72.576 L940.257 72.576 Q931.629 72.576 928.348 69.3758 Q925.067 66.1351 925.067 57.6282 L925.067 32.9987 L919.598 32.9987 L919.598 27.2059 L925.067 27.2059 L925.067 14.324 L932.561 14.324 Z\" fill=\"#000000\" fill-rule=\"evenodd\" fill-opacity=\"1\" /><path clip-path=\"url(#clip340)\" d=\"M 0 0 M993.446 45.1919 L993.446 72.576 L985.992 72.576 L985.992 45.4349 Q985.992 38.994 983.481 35.7938 Q980.969 32.5936 975.946 32.5936 Q969.91 32.5936 966.426 36.4419 Q962.943 40.2903 962.943 46.9338 L962.943 72.576 L955.448 72.576 L955.448 9.54393 L962.943 9.54393 L962.943 34.2544 Q965.616 30.163 969.221 28.1376 Q972.867 26.1121 977.607 26.1121 Q985.425 26.1121 989.435 30.9732 Q993.446 35.7938 993.446 45.1919 Z\" fill=\"#000000\" fill-rule=\"evenodd\" fill-opacity=\"1\" /><path clip-path=\"url(#clip340)\" d=\"M 0 0 M997.497 46.5287 L1019.33 46.5287 L1019.33 53.1722 L997.497 53.1722 L997.497 46.5287 Z\" fill=\"#000000\" fill-rule=\"evenodd\" fill-opacity=\"1\" /><path clip-path=\"url(#clip340)\" d=\"M 0 0 M1046.27 32.4315 Q1040.27 32.4315 1036.79 37.1306 Q1033.31 41.7891 1033.31 49.9314 Q1033.31 58.0738 1036.75 62.7728 Q1040.23 67.4314 1046.27 67.4314 Q1052.22 67.4314 1055.71 62.7323 Q1059.19 58.0333 1059.19 49.9314 Q1059.19 41.8701 1055.71 37.1711 Q1052.22 32.4315 1046.27 32.4315 M1046.27 26.1121 Q1055.99 26.1121 1061.54 32.4315 Q1067.09 38.7509 1067.09 49.9314 Q1067.09 61.0714 1061.54 67.4314 Q1055.99 73.7508 1046.27 73.7508 Q1036.51 73.7508 1030.96 67.4314 Q1025.45 61.0714 1025.45 49.9314 Q1025.45 38.7509 1030.96 32.4315 Q1036.51 26.1121 1046.27 26.1121 Z\" fill=\"#000000\" fill-rule=\"evenodd\" fill-opacity=\"1\" /><path clip-path=\"url(#clip340)\" d=\"M 0 0 M1101.2 34.1734 Q1099.94 33.4443 1098.45 33.1202 Q1096.99 32.7556 1095.2 32.7556 Q1088.89 32.7556 1085.48 36.8875 Q1082.12 40.9789 1082.12 48.6757 L1082.12 72.576 L1074.63 72.576 L1074.63 27.2059 L1082.12 27.2059 L1082.12 34.2544 Q1084.47 30.1225 1088.24 28.1376 Q1092 26.1121 1097.39 26.1121 Q1098.16 26.1121 1099.09 26.2337 Q1100.03 26.3147 1101.16 26.5172 L1101.2 34.1734 Z\" fill=\"#000000\" fill-rule=\"evenodd\" fill-opacity=\"1\" /><path clip-path=\"url(#clip340)\" d=\"M 0 0 M1137.41 34.0924 L1137.41 9.54393 L1144.87 9.54393 L1144.87 72.576 L1137.41 72.576 L1137.41 65.7705 Q1135.07 69.8214 1131.46 71.8063 Q1127.9 73.7508 1122.87 73.7508 Q1114.65 73.7508 1109.46 67.1883 Q1104.32 60.6258 1104.32 49.9314 Q1104.32 39.2371 1109.46 32.6746 Q1114.65 26.1121 1122.87 26.1121 Q1127.9 26.1121 1131.46 28.0971 Q1135.07 30.0415 1137.41 34.0924 M1112.02 49.9314 Q1112.02 58.1548 1115.38 62.8538 Q1118.78 67.5124 1124.7 67.5124 Q1130.61 67.5124 1134.01 62.8538 Q1137.41 58.1548 1137.41 49.9314 Q1137.41 41.7081 1134.01 37.0496 Q1130.61 32.3505 1124.7 32.3505 Q1118.78 32.3505 1115.38 37.0496 Q1112.02 41.7081 1112.02 49.9314 Z\" fill=\"#000000\" fill-rule=\"evenodd\" fill-opacity=\"1\" /><path clip-path=\"url(#clip340)\" d=\"M 0 0 M1191.49 48.0275 L1191.49 51.6733 L1157.22 51.6733 Q1157.71 59.3701 1161.84 63.421 Q1166.01 67.4314 1173.43 67.4314 Q1177.72 67.4314 1181.73 66.3781 Q1185.78 65.3249 1189.75 63.2184 L1189.75 70.267 Q1185.74 71.9684 1181.53 72.8596 Q1177.32 73.7508 1172.98 73.7508 Q1162.13 73.7508 1155.77 67.4314 Q1149.45 61.1119 1149.45 50.3365 Q1149.45 39.1965 1155.44 32.6746 Q1161.48 26.1121 1171.69 26.1121 Q1180.84 26.1121 1186.15 32.0264 Q1191.49 37.9003 1191.49 48.0275 M1184.04 45.84 Q1183.96 39.7232 1180.6 36.0774 Q1177.28 32.4315 1171.77 32.4315 Q1165.53 32.4315 1161.76 35.9558 Q1158.03 39.4801 1157.47 45.8805 L1184.04 45.84 Z\" fill=\"#000000\" fill-rule=\"evenodd\" fill-opacity=\"1\" /><path clip-path=\"url(#clip340)\" d=\"M 0 0 M1225.6 34.1734 Q1224.35 33.4443 1222.85 33.1202 Q1221.39 32.7556 1219.61 32.7556 Q1213.29 32.7556 1209.89 36.8875 Q1206.52 40.9789 1206.52 48.6757 L1206.52 72.576 L1199.03 72.576 L1199.03 27.2059 L1206.52 27.2059 L1206.52 34.2544 Q1208.87 30.1225 1212.64 28.1376 Q1216.41 26.1121 1221.8 26.1121 Q1222.56 26.1121 1223.5 26.2337 Q1224.43 26.3147 1225.56 26.5172 L1225.6 34.1734 Z\" fill=\"#000000\" fill-rule=\"evenodd\" fill-opacity=\"1\" /><path clip-path=\"url(#clip340)\" d=\"M 0 0 M1280.41 49.7694 Q1271.38 49.7694 1267.89 51.8354 Q1264.41 53.9013 1264.41 58.8839 Q1264.41 62.8538 1267 65.2034 Q1269.64 67.5124 1274.13 67.5124 Q1280.33 67.5124 1284.06 63.1374 Q1287.83 58.7219 1287.83 51.4303 L1287.83 49.7694 L1280.41 49.7694 M1295.28 46.6907 L1295.28 72.576 L1287.83 72.576 L1287.83 65.6895 Q1285.27 69.8214 1281.47 71.8063 Q1277.66 73.7508 1272.15 73.7508 Q1265.18 73.7508 1261.05 69.8619 Q1256.96 65.9325 1256.96 59.3701 Q1256.96 51.7138 1262.06 47.825 Q1267.21 43.9361 1277.37 43.9361 L1287.83 43.9361 L1287.83 43.2069 Q1287.83 38.0623 1284.42 35.2672 Q1281.06 32.4315 1274.94 32.4315 Q1271.05 32.4315 1267.37 33.3632 Q1263.68 34.295 1260.28 36.1584 L1260.28 29.2718 Q1264.37 27.692 1268.22 26.9223 Q1272.07 26.1121 1275.71 26.1121 Q1285.56 26.1121 1290.42 31.2163 Q1295.28 36.3204 1295.28 46.6907 Z\" fill=\"#000000\" fill-rule=\"evenodd\" fill-opacity=\"1\" /><path clip-path=\"url(#clip340)\" d=\"M 0 0 M1310.31 65.7705 L1310.31 89.8329 L1302.81 89.8329 L1302.81 27.2059 L1310.31 27.2059 L1310.31 34.0924 Q1312.66 30.0415 1316.22 28.0971 Q1319.83 26.1121 1324.81 26.1121 Q1333.07 26.1121 1338.22 32.6746 Q1343.4 39.2371 1343.4 49.9314 Q1343.4 60.6258 1338.22 67.1883 Q1333.07 73.7508 1324.81 73.7508 Q1319.83 73.7508 1316.22 71.8063 Q1312.66 69.8214 1310.31 65.7705 M1335.67 49.9314 Q1335.67 41.7081 1332.26 37.0496 Q1328.9 32.3505 1322.99 32.3505 Q1317.07 32.3505 1313.67 37.0496 Q1310.31 41.7081 1310.31 49.9314 Q1310.31 58.1548 1313.67 62.8538 Q1317.07 67.5124 1322.99 67.5124 Q1328.9 67.5124 1332.26 62.8538 Q1335.67 58.1548 1335.67 49.9314 Z\" fill=\"#000000\" fill-rule=\"evenodd\" fill-opacity=\"1\" /><path clip-path=\"url(#clip340)\" d=\"M 0 0 M1358.43 65.7705 L1358.43 89.8329 L1350.94 89.8329 L1350.94 27.2059 L1358.43 27.2059 L1358.43 34.0924 Q1360.78 30.0415 1364.35 28.0971 Q1367.95 26.1121 1372.93 26.1121 Q1381.2 26.1121 1386.34 32.6746 Q1391.53 39.2371 1391.53 49.9314 Q1391.53 60.6258 1386.34 67.1883 Q1381.2 73.7508 1372.93 73.7508 Q1367.95 73.7508 1364.35 71.8063 Q1360.78 69.8214 1358.43 65.7705 M1383.79 49.9314 Q1383.79 41.7081 1380.39 37.0496 Q1377.03 32.3505 1371.11 32.3505 Q1365.2 32.3505 1361.79 37.0496 Q1358.43 41.7081 1358.43 49.9314 Q1358.43 58.1548 1361.79 62.8538 Q1365.2 67.5124 1371.11 67.5124 Q1377.03 67.5124 1380.39 62.8538 Q1383.79 58.1548 1383.79 49.9314 Z\" fill=\"#000000\" fill-rule=\"evenodd\" fill-opacity=\"1\" /><path clip-path=\"url(#clip340)\" d=\"M 0 0 M1425.64 34.1734 Q1424.38 33.4443 1422.88 33.1202 Q1421.42 32.7556 1419.64 32.7556 Q1413.32 32.7556 1409.92 36.8875 Q1406.56 40.9789 1406.56 48.6757 L1406.56 72.576 L1399.06 72.576 L1399.06 27.2059 L1406.56 27.2059 L1406.56 34.2544 Q1408.91 30.1225 1412.67 28.1376 Q1416.44 26.1121 1421.83 26.1121 Q1422.6 26.1121 1423.53 26.2337 Q1424.46 26.3147 1425.6 26.5172 L1425.64 34.1734 Z\" fill=\"#000000\" fill-rule=\"evenodd\" fill-opacity=\"1\" /><path clip-path=\"url(#clip340)\" d=\"M 0 0 M1449.21 32.4315 Q1443.22 32.4315 1439.73 37.1306 Q1436.25 41.7891 1436.25 49.9314 Q1436.25 58.0738 1439.69 62.7728 Q1443.18 67.4314 1449.21 67.4314 Q1455.17 67.4314 1458.65 62.7323 Q1462.14 58.0333 1462.14 49.9314 Q1462.14 41.8701 1458.65 37.1711 Q1455.17 32.4315 1449.21 32.4315 M1449.21 26.1121 Q1458.94 26.1121 1464.48 32.4315 Q1470.03 38.7509 1470.03 49.9314 Q1470.03 61.0714 1464.48 67.4314 Q1458.94 73.7508 1449.21 73.7508 Q1439.45 73.7508 1433.9 67.4314 Q1428.39 61.0714 1428.39 49.9314 Q1428.39 38.7509 1433.9 32.4315 Q1439.45 26.1121 1449.21 26.1121 Z\" fill=\"#000000\" fill-rule=\"evenodd\" fill-opacity=\"1\" /><path clip-path=\"url(#clip340)\" d=\"M 0 0 M1513.01 27.2059 L1496.61 49.2833 L1513.87 72.576 L1505.08 72.576 L1491.87 54.752 L1478.66 72.576 L1469.87 72.576 L1487.49 48.8377 L1471.37 27.2059 L1480.16 27.2059 L1492.19 43.369 L1504.22 27.2059 L1513.01 27.2059 Z\" fill=\"#000000\" fill-rule=\"evenodd\" fill-opacity=\"1\" /><path clip-path=\"url(#clip340)\" d=\"M 0 0 M1521.68 27.2059 L1529.14 27.2059 L1529.14 72.576 L1521.68 72.576 L1521.68 27.2059 M1521.68 9.54393 L1529.14 9.54393 L1529.14 18.9825 L1521.68 18.9825 L1521.68 9.54393 Z\" fill=\"#000000\" fill-rule=\"evenodd\" fill-opacity=\"1\" /><path clip-path=\"url(#clip340)\" d=\"M 0 0 M1572.28 35.9153 Q1575.07 30.8922 1578.96 28.5022 Q1582.85 26.1121 1588.12 26.1121 Q1595.21 26.1121 1599.06 31.0947 Q1602.9 36.0368 1602.9 45.1919 L1602.9 72.576 L1595.41 72.576 L1595.41 45.4349 Q1595.41 38.913 1593.1 35.7533 Q1590.79 32.5936 1586.05 32.5936 Q1580.26 32.5936 1576.9 36.4419 Q1573.54 40.2903 1573.54 46.9338 L1573.54 72.576 L1566.04 72.576 L1566.04 45.4349 Q1566.04 38.8725 1563.73 35.7533 Q1561.42 32.5936 1556.6 32.5936 Q1550.89 32.5936 1547.53 36.4824 Q1544.17 40.3308 1544.17 46.9338 L1544.17 72.576 L1536.67 72.576 L1536.67 27.2059 L1544.17 27.2059 L1544.17 34.2544 Q1546.72 30.082 1550.28 28.0971 Q1553.85 26.1121 1558.75 26.1121 Q1563.69 26.1121 1567.13 28.6237 Q1570.62 31.1352 1572.28 35.9153 Z\" fill=\"#000000\" fill-rule=\"evenodd\" fill-opacity=\"1\" /><path clip-path=\"url(#clip340)\" d=\"M 0 0 M1631.34 49.7694 Q1622.31 49.7694 1618.82 51.8354 Q1615.34 53.9013 1615.34 58.8839 Q1615.34 62.8538 1617.93 65.2034 Q1620.57 67.5124 1625.06 67.5124 Q1631.26 67.5124 1634.99 63.1374 Q1638.75 58.7219 1638.75 51.4303 L1638.75 49.7694 L1631.34 49.7694 M1646.21 46.6907 L1646.21 72.576 L1638.75 72.576 L1638.75 65.6895 Q1636.2 69.8214 1632.39 71.8063 Q1628.59 73.7508 1623.08 73.7508 Q1616.11 73.7508 1611.98 69.8619 Q1607.89 65.9325 1607.89 59.3701 Q1607.89 51.7138 1612.99 47.825 Q1618.14 43.9361 1628.3 43.9361 L1638.75 43.9361 L1638.75 43.2069 Q1638.75 38.0623 1635.35 35.2672 Q1631.99 32.4315 1625.87 32.4315 Q1621.98 32.4315 1618.3 33.3632 Q1614.61 34.295 1611.21 36.1584 L1611.21 29.2718 Q1615.3 27.692 1619.15 26.9223 Q1623 26.1121 1626.64 26.1121 Q1636.49 26.1121 1641.35 31.2163 Q1646.21 36.3204 1646.21 46.6907 Z\" fill=\"#000000\" fill-rule=\"evenodd\" fill-opacity=\"1\" /><path clip-path=\"url(#clip340)\" d=\"M 0 0 M1661.4 14.324 L1661.4 27.2059 L1676.75 27.2059 L1676.75 32.9987 L1661.4 32.9987 L1661.4 57.6282 Q1661.4 63.1779 1662.9 64.7578 Q1664.44 66.3376 1669.1 66.3376 L1676.75 66.3376 L1676.75 72.576 L1669.1 72.576 Q1660.47 72.576 1657.19 69.3758 Q1653.91 66.1351 1653.91 57.6282 L1653.91 32.9987 L1648.44 32.9987 L1648.44 27.2059 L1653.91 27.2059 L1653.91 14.324 L1661.4 14.324 Z\" fill=\"#000000\" fill-rule=\"evenodd\" fill-opacity=\"1\" /><path clip-path=\"url(#clip340)\" d=\"M 0 0 M1684.57 27.2059 L1692.02 27.2059 L1692.02 72.576 L1684.57 72.576 L1684.57 27.2059 M1684.57 9.54393 L1692.02 9.54393 L1692.02 18.9825 L1684.57 18.9825 L1684.57 9.54393 Z\" fill=\"#000000\" fill-rule=\"evenodd\" fill-opacity=\"1\" /><path clip-path=\"url(#clip340)\" d=\"M 0 0 M1717.42 32.4315 Q1711.43 32.4315 1707.94 37.1306 Q1704.46 41.7891 1704.46 49.9314 Q1704.46 58.0738 1707.9 62.7728 Q1711.39 67.4314 1717.42 67.4314 Q1723.38 67.4314 1726.86 62.7323 Q1730.35 58.0333 1730.35 49.9314 Q1730.35 41.8701 1726.86 37.1711 Q1723.38 32.4315 1717.42 32.4315 M1717.42 26.1121 Q1727.15 26.1121 1732.7 32.4315 Q1738.25 38.7509 1738.25 49.9314 Q1738.25 61.0714 1732.7 67.4314 Q1727.15 73.7508 1717.42 73.7508 Q1707.66 73.7508 1702.11 67.4314 Q1696.6 61.0714 1696.6 49.9314 Q1696.6 38.7509 1702.11 32.4315 Q1707.66 26.1121 1717.42 26.1121 Z\" fill=\"#000000\" fill-rule=\"evenodd\" fill-opacity=\"1\" /><path clip-path=\"url(#clip340)\" d=\"M 0 0 M1783.78 45.1919 L1783.78 72.576 L1776.32 72.576 L1776.32 45.4349 Q1776.32 38.994 1773.81 35.7938 Q1771.3 32.5936 1766.28 32.5936 Q1760.24 32.5936 1756.76 36.4419 Q1753.27 40.2903 1753.27 46.9338 L1753.27 72.576 L1745.78 72.576 L1745.78 27.2059 L1753.27 27.2059 L1753.27 34.2544 Q1755.95 30.163 1759.55 28.1376 Q1763.2 26.1121 1767.94 26.1121 Q1775.76 26.1121 1779.77 30.9732 Q1783.78 35.7938 1783.78 45.1919 Z\" fill=\"#000000\" fill-rule=\"evenodd\" fill-opacity=\"1\" /><path clip-path=\"url(#clip340)\" d=\"M 0 0 M1825.34 14.324 L1825.34 27.2059 L1840.69 27.2059 L1840.69 32.9987 L1825.34 32.9987 L1825.34 57.6282 Q1825.34 63.1779 1826.84 64.7578 Q1828.38 66.3376 1833.04 66.3376 L1840.69 66.3376 L1840.69 72.576 L1833.04 72.576 Q1824.41 72.576 1821.13 69.3758 Q1817.85 66.1351 1817.85 57.6282 L1817.85 32.9987 L1812.38 32.9987 L1812.38 27.2059 L1817.85 27.2059 L1817.85 14.324 L1825.34 14.324 Z\" fill=\"#000000\" fill-rule=\"evenodd\" fill-opacity=\"1\" /><path clip-path=\"url(#clip340)\" d=\"M 0 0 M1866.09 32.4315 Q1860.1 32.4315 1856.61 37.1306 Q1853.13 41.7891 1853.13 49.9314 Q1853.13 58.0738 1856.57 62.7728 Q1860.06 67.4314 1866.09 67.4314 Q1872.05 67.4314 1875.53 62.7323 Q1879.01 58.0333 1879.01 49.9314 Q1879.01 41.8701 1875.53 37.1711 Q1872.05 32.4315 1866.09 32.4315 M1866.09 26.1121 Q1875.81 26.1121 1881.36 32.4315 Q1886.91 38.7509 1886.91 49.9314 Q1886.91 61.0714 1881.36 67.4314 Q1875.81 73.7508 1866.09 73.7508 Q1856.33 73.7508 1850.78 67.4314 Q1845.27 61.0714 1845.27 49.9314 Q1845.27 38.7509 1850.78 32.4315 Q1856.33 26.1121 1866.09 26.1121 Z\" fill=\"#000000\" fill-rule=\"evenodd\" fill-opacity=\"1\" /><path clip-path=\"url(#clip340)\" d=\"M 0 0 M1953.75 28.9478 L1953.75 35.9153 Q1950.59 34.1734 1947.39 33.3227 Q1944.23 32.4315 1940.99 32.4315 Q1933.74 32.4315 1929.73 37.0496 Q1925.72 41.6271 1925.72 49.9314 Q1925.72 58.2358 1929.73 62.8538 Q1933.74 67.4314 1940.99 67.4314 Q1944.23 67.4314 1947.39 66.5807 Q1950.59 65.6895 1953.75 63.9476 L1953.75 70.8341 Q1950.63 72.2924 1947.27 73.0216 Q1943.95 73.7508 1940.18 73.7508 Q1929.93 73.7508 1923.9 67.3098 Q1917.86 60.8689 1917.86 49.9314 Q1917.86 38.832 1923.94 32.472 Q1930.06 26.1121 1940.67 26.1121 Q1944.11 26.1121 1947.39 26.8413 Q1950.67 27.5299 1953.75 28.9478 Z\" fill=\"#000000\" fill-rule=\"evenodd\" fill-opacity=\"1\" /><path clip-path=\"url(#clip340)\" d=\"M 0 0 M1979.15 32.4315 Q1973.16 32.4315 1969.67 37.1306 Q1966.19 41.7891 1966.19 49.9314 Q1966.19 58.0738 1969.63 62.7728 Q1973.12 67.4314 1979.15 67.4314 Q1985.11 67.4314 1988.59 62.7323 Q1992.07 58.0333 1992.07 49.9314 Q1992.07 41.8701 1988.59 37.1711 Q1985.11 32.4315 1979.15 32.4315 M1979.15 26.1121 Q1988.87 26.1121 1994.42 32.4315 Q1999.97 38.7509 1999.97 49.9314 Q1999.97 61.0714 1994.42 67.4314 Q1988.87 73.7508 1979.15 73.7508 Q1969.39 73.7508 1963.84 67.4314 Q1958.33 61.0714 1958.33 49.9314 Q1958.33 38.7509 1963.84 32.4315 Q1969.39 26.1121 1979.15 26.1121 Z\" fill=\"#000000\" fill-rule=\"evenodd\" fill-opacity=\"1\" /><path clip-path=\"url(#clip340)\" d=\"M 0 0 M2036.72 28.5427 L2036.72 35.5912 Q2033.56 33.9709 2030.15 33.1607 Q2026.75 32.3505 2023.1 32.3505 Q2017.55 32.3505 2014.76 34.0519 Q2012.01 35.7533 2012.01 39.156 Q2012.01 41.7486 2013.99 43.2475 Q2015.98 44.7058 2021.97 46.0426 L2024.52 46.6097 Q2032.46 48.3111 2035.78 51.4303 Q2039.15 54.509 2039.15 60.0587 Q2039.15 66.3781 2034.12 70.0644 Q2029.14 73.7508 2020.39 73.7508 Q2016.74 73.7508 2012.77 73.0216 Q2008.85 72.3329 2004.47 70.9151 L2004.47 63.2184 Q2008.6 65.3654 2012.61 66.4591 Q2016.62 67.5124 2020.55 67.5124 Q2025.82 67.5124 2028.65 65.73 Q2031.49 63.9071 2031.49 60.6258 Q2031.49 57.5877 2029.42 55.9673 Q2027.4 54.3469 2020.47 52.8481 L2017.88 52.2405 Q2010.95 50.7821 2007.87 47.7845 Q2004.79 44.7463 2004.79 39.4801 Q2004.79 33.0797 2009.33 29.5959 Q2013.87 26.1121 2022.21 26.1121 Q2026.35 26.1121 2029.99 26.7198 Q2033.64 27.3274 2036.72 28.5427 Z\" fill=\"#000000\" fill-rule=\"evenodd\" fill-opacity=\"1\" /><circle clip-path=\"url(#clip342)\" cx=\"305.2\" cy=\"169.887\" r=\"14\" fill=\"#009af9\" fill-rule=\"evenodd\" fill-opacity=\"1\" stroke=\"#000000\" stroke-opacity=\"1\" stroke-width=\"3.2\"/>\n",
       "<circle clip-path=\"url(#clip342)\" cx=\"1868.81\" cy=\"1429.77\" r=\"14\" fill=\"#009af9\" fill-rule=\"evenodd\" fill-opacity=\"1\" stroke=\"#000000\" stroke-opacity=\"1\" stroke-width=\"3.2\"/>\n",
       "<circle clip-path=\"url(#clip342)\" cx=\"744.062\" cy=\"460.779\" r=\"14\" fill=\"#009af9\" fill-rule=\"evenodd\" fill-opacity=\"1\" stroke=\"#000000\" stroke-opacity=\"1\" stroke-width=\"3.2\"/>\n",
       "<circle clip-path=\"url(#clip342)\" cx=\"2013.51\" cy=\"1374.66\" r=\"14\" fill=\"#009af9\" fill-rule=\"evenodd\" fill-opacity=\"1\" stroke=\"#000000\" stroke-opacity=\"1\" stroke-width=\"3.2\"/>\n",
       "<circle clip-path=\"url(#clip342)\" cx=\"1427.8\" cy=\"1246.45\" r=\"14\" fill=\"#009af9\" fill-rule=\"evenodd\" fill-opacity=\"1\" stroke=\"#000000\" stroke-opacity=\"1\" stroke-width=\"3.2\"/>\n",
       "<circle clip-path=\"url(#clip342)\" cx=\"1574.7\" cy=\"1357.89\" r=\"14\" fill=\"#009af9\" fill-rule=\"evenodd\" fill-opacity=\"1\" stroke=\"#000000\" stroke-opacity=\"1\" stroke-width=\"3.2\"/>\n",
       "<circle clip-path=\"url(#clip342)\" cx=\"1108.44\" cy=\"894.925\" r=\"14\" fill=\"#009af9\" fill-rule=\"evenodd\" fill-opacity=\"1\" stroke=\"#000000\" stroke-opacity=\"1\" stroke-width=\"3.2\"/>\n",
       "<circle clip-path=\"url(#clip342)\" cx=\"1759.78\" cy=\"1429.74\" r=\"14\" fill=\"#009af9\" fill-rule=\"evenodd\" fill-opacity=\"1\" stroke=\"#000000\" stroke-opacity=\"1\" stroke-width=\"3.2\"/>\n",
       "<circle clip-path=\"url(#clip342)\" cx=\"1034.56\" cy=\"803.291\" r=\"14\" fill=\"#009af9\" fill-rule=\"evenodd\" fill-opacity=\"1\" stroke=\"#000000\" stroke-opacity=\"1\" stroke-width=\"3.2\"/>\n",
       "<circle clip-path=\"url(#clip342)\" cx=\"1827.94\" cy=\"1433.73\" r=\"14\" fill=\"#009af9\" fill-rule=\"evenodd\" fill-opacity=\"1\" stroke=\"#000000\" stroke-opacity=\"1\" stroke-width=\"3.2\"/>\n",
       "<polyline clip-path=\"url(#clip342)\" style=\"stroke:#e26f46; stroke-width:4; stroke-opacity:1; fill:none\" points=\"\n",
       "  224.444,162.047 229.61,162.079 234.776,162.175 239.942,162.336 245.108,162.561 250.273,162.85 255.439,163.204 260.605,163.621 265.771,164.103 270.937,164.649 \n",
       "  276.102,165.259 281.268,165.933 286.434,166.67 291.6,167.472 296.766,168.337 301.931,169.266 307.097,170.259 312.263,171.315 317.429,172.434 322.595,173.617 \n",
       "  327.76,174.862 332.926,176.171 338.092,177.543 343.258,178.977 348.424,180.474 353.589,182.034 358.755,183.655 363.921,185.339 369.087,187.085 374.253,188.892 \n",
       "  379.418,190.762 384.584,192.692 389.75,194.684 394.916,196.737 400.082,198.851 405.248,201.025 410.413,203.26 415.579,205.555 420.745,207.909 425.911,210.324 \n",
       "  431.077,212.798 436.242,215.331 441.408,217.923 446.574,220.574 451.74,223.283 456.906,226.051 462.071,228.876 467.237,231.759 472.403,234.699 477.569,237.697 \n",
       "  482.735,240.751 487.9,243.861 493.066,247.028 498.232,250.25 503.398,253.528 508.564,256.861 513.729,260.249 518.895,263.691 524.061,267.187 529.227,270.737 \n",
       "  534.393,274.341 539.558,277.998 544.724,281.707 549.89,285.469 555.056,289.282 560.222,293.147 565.387,297.064 570.553,301.031 575.719,305.048 580.885,309.116 \n",
       "  586.051,313.233 591.216,317.399 596.382,321.614 601.548,325.878 606.714,330.189 611.88,334.548 617.046,338.954 622.211,343.406 627.377,347.904 632.543,352.449 \n",
       "  637.709,357.038 642.875,361.673 648.04,366.351 653.206,371.074 658.372,375.84 663.538,380.648 668.704,385.5 673.869,390.393 679.035,395.327 684.201,400.303 \n",
       "  689.367,405.319 694.533,410.375 699.698,415.47 704.864,420.605 710.03,425.778 715.196,430.988 720.362,436.237 725.527,441.522 730.693,446.843 735.859,452.2 \n",
       "  741.025,457.593 746.191,463.02 751.356,468.481 756.522,473.976 761.688,479.505 766.854,485.065 772.02,490.658 777.185,496.282 782.351,501.937 787.517,507.622 \n",
       "  792.683,513.337 797.849,519.082 803.014,524.854 808.18,530.655 813.346,536.483 818.512,542.338 823.678,548.22 828.843,554.127 834.009,560.059 839.175,566.015 \n",
       "  844.341,571.996 849.507,577.999 854.673,584.026 859.838,590.074 865.004,596.144 870.17,602.235 875.336,608.347 880.502,614.477 885.667,620.627 890.833,626.796 \n",
       "  895.999,632.982 901.165,639.185 906.331,645.405 911.496,651.641 916.662,657.892 921.828,664.158 926.994,670.438 932.16,676.731 937.325,683.038 942.491,689.356 \n",
       "  947.657,695.686 952.823,702.027 957.989,708.378 963.154,714.739 968.32,721.109 973.486,727.488 978.652,733.874 983.818,740.267 988.983,746.666 994.149,753.072 \n",
       "  999.315,759.483 1004.48,765.898 1009.65,772.317 1014.81,778.739 1019.98,785.164 1025.14,791.591 1030.31,798.019 1035.48,804.448 1040.64,810.877 1045.81,817.306 \n",
       "  1050.97,823.733 1056.14,830.159 1061.3,836.581 1066.47,843.001 1071.64,849.417 1076.8,855.828 1081.97,862.235 1087.13,868.635 1092.3,875.029 1097.47,881.417 \n",
       "  1102.63,887.796 1107.8,894.168 1112.96,900.53 1118.13,906.883 1123.29,913.225 1128.46,919.557 1133.63,925.878 1138.79,932.186 1143.96,938.481 1149.12,944.764 \n",
       "  1154.29,951.032 1159.46,957.285 1164.62,963.524 1169.79,969.746 1174.95,975.952 1180.12,982.141 1185.28,988.312 1190.45,994.465 1195.62,1000.6 1200.78,1006.71 \n",
       "  1205.95,1012.81 1211.11,1018.88 1216.28,1024.93 1221.44,1030.96 1226.61,1036.97 1231.78,1042.95 1236.94,1048.92 1242.11,1054.85 1247.27,1060.76 1252.44,1066.65 \n",
       "  1257.61,1072.51 1262.77,1078.34 1267.94,1084.14 1273.1,1089.92 1278.27,1095.67 1283.43,1101.39 1288.6,1107.08 1293.77,1112.74 1298.93,1118.37 1304.1,1123.97 \n",
       "  1309.26,1129.53 1314.43,1135.07 1319.59,1140.57 1324.76,1146.03 1329.93,1151.47 1335.09,1156.86 1340.26,1162.23 1345.42,1167.55 1350.59,1172.84 1355.76,1178.1 \n",
       "  1360.92,1183.32 1366.09,1188.49 1371.25,1193.64 1376.42,1198.74 1381.58,1203.8 1386.75,1208.82 1391.92,1213.8 1397.08,1218.74 1402.25,1223.64 1407.41,1228.5 \n",
       "  1412.58,1233.32 1417.75,1238.09 1422.91,1242.82 1428.08,1247.51 1433.24,1252.15 1438.41,1256.74 1443.57,1261.3 1448.74,1265.8 1453.91,1270.26 1459.07,1274.67 \n",
       "  1464.24,1279.04 1469.4,1283.36 1474.57,1287.63 1479.73,1291.85 1484.9,1296.03 1490.07,1300.15 1495.23,1304.23 1500.4,1308.25 1505.56,1312.23 1510.73,1316.15 \n",
       "  1515.9,1320.03 1521.06,1323.85 1526.23,1327.62 1531.39,1331.34 1536.56,1335 1541.72,1338.61 1546.89,1342.17 1552.06,1345.68 1557.22,1349.13 1562.39,1352.52 \n",
       "  1567.55,1355.87 1572.72,1359.15 1577.89,1362.38 1583.05,1365.56 1588.22,1368.68 1593.38,1371.74 1598.55,1374.75 1603.71,1377.7 1608.88,1380.59 1614.05,1383.42 \n",
       "  1619.21,1386.2 1624.38,1388.92 1629.54,1391.58 1634.71,1394.18 1639.87,1396.72 1645.04,1399.21 1650.21,1401.63 1655.37,1404 1660.54,1406.3 1665.7,1408.54 \n",
       "  1670.87,1410.73 1676.04,1412.85 1681.2,1414.91 1686.37,1416.92 1691.53,1418.86 1696.7,1420.73 1701.86,1422.55 1707.03,1424.31 1712.2,1426 1717.36,1427.63 \n",
       "  1722.53,1429.2 1727.69,1430.71 1732.86,1432.15 1738.03,1433.54 1743.19,1434.85 1748.36,1436.11 1753.52,1437.3 1758.69,1438.43 1763.85,1439.5 1769.02,1440.5 \n",
       "  1774.19,1441.44 1779.35,1442.32 1784.52,1443.13 1789.68,1443.87 1794.85,1444.56 1800.01,1445.18 1805.18,1445.74 1810.35,1446.23 1815.51,1446.65 1820.68,1447.02 \n",
       "  1825.84,1447.32 1831.01,1447.55 1836.18,1447.72 1841.34,1447.83 1846.51,1447.87 1851.67,1447.85 1856.84,1447.76 1862,1447.61 1867.17,1447.4 1872.34,1447.12 \n",
       "  1877.5,1446.78 1882.67,1446.37 1887.83,1445.9 1893,1445.36 1898.17,1444.76 1903.33,1444.1 1908.5,1443.37 1913.66,1442.58 1918.83,1441.73 1923.99,1440.81 \n",
       "  1929.16,1439.82 1934.33,1438.78 1939.49,1437.67 1944.66,1436.5 1949.82,1435.26 1954.99,1433.96 1960.15,1432.6 1965.32,1431.18 1970.49,1429.69 1975.65,1428.14 \n",
       "  1980.82,1426.53 1985.98,1424.85 1991.15,1423.12 1996.32,1421.32 2001.48,1419.46 2006.65,1417.54 2011.81,1415.56 2016.98,1413.51 2022.14,1411.41 2027.31,1409.25 \n",
       "  2032.48,1407.02 2037.64,1404.74 2042.81,1402.39 2047.97,1399.99 2053.14,1397.52 2058.31,1395 2063.47,1392.41 2068.64,1389.77 2073.8,1387.07 2078.97,1384.31 \n",
       "  2084.13,1381.5 2089.3,1378.62 2094.47,1375.69 2099.63,1372.71 2104.8,1369.66 2109.96,1366.56 2115.13,1363.4 2120.29,1360.19 2125.46,1356.92 2130.63,1353.59 \n",
       "  2135.79,1350.22 2140.96,1346.78 2146.12,1343.29 2151.29,1339.75 2156.46,1336.16 2161.62,1332.51 2166.79,1328.81 2171.95,1325.05 2177.12,1321.25 2182.28,1317.39 \n",
       "  2187.45,1313.48 2192.62,1309.53 2197.78,1305.52 2202.95,1301.46 2208.11,1297.35 2213.28,1293.19 2218.44,1288.98 2223.61,1284.73 2228.78,1280.42 2233.94,1276.07 \n",
       "  2239.11,1271.67 2244.27,1267.23 2249.44,1262.74 2254.61,1258.2 2259.77,1253.62 2264.94,1248.99 2270.1,1244.32 2275.27,1239.6 2280.43,1234.84 2285.6,1230.04 \n",
       "  2290.77,1225.2 \n",
       "  \"/>\n",
       "</svg>\n"
      ]
     },
     "execution_count": 7,
     "metadata": {},
     "output_type": "execute_result"
    }
   ],
   "source": [
    "# now the plots\n",
    "using Plots; gr()    # it is sometimes convenient to cram a line in this way\n",
    "\n",
    "#first the plot of the approximation points\n",
    "scatter(x1, y1, legend=:false, title=\"Illustrating 6th-order approximation to cos\")\n",
    "\n",
    "plot!(x2, y2)   #then add the accurate line with plot!()"
   ]
  },
  {
   "cell_type": "markdown",
   "metadata": {},
   "source": [
    "[Back to the top](#In-this-lecture)"
   ]
  }
 ],
 "metadata": {
  "hide_input": false,
  "kernelspec": {
   "display_name": "Julia 1.4.1",
   "language": "julia",
   "name": "julia-1.4"
  },
  "language_info": {
   "file_extension": ".jl",
   "mimetype": "application/julia",
   "name": "julia",
   "version": "1.4.1"
  },
  "varInspector": {
   "cols": {
    "lenName": 16,
    "lenType": 16,
    "lenVar": 40
   },
   "kernels_config": {
    "python": {
     "delete_cmd_postfix": "",
     "delete_cmd_prefix": "del ",
     "library": "var_list.py",
     "varRefreshCmd": "print(var_dic_list())"
    },
    "r": {
     "delete_cmd_postfix": ") ",
     "delete_cmd_prefix": "rm(",
     "library": "var_list.r",
     "varRefreshCmd": "cat(var_dic_list()) "
    }
   },
   "types_to_exclude": [
    "module",
    "function",
    "builtin_function_or_method",
    "instance",
    "_Feature"
   ],
   "window_display": false
  }
 },
 "nbformat": 4,
 "nbformat_minor": 1
}
